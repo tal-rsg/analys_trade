{
 "cells": [
  {
   "cell_type": "markdown",
   "metadata": {
    "colab_type": "text",
    "id": "view-in-github"
   },
   "source": [
    "<a href=\"https://colab.research.google.com/github/tal-rsg/analys_trade/blob/main/analys_btc_trade.ipynb\" target=\"_parent\"><img src=\"https://colab.research.google.com/assets/colab-badge.svg\" alt=\"Open In Colab\"/></a>"
   ]
  },
  {
   "cell_type": "code",
   "execution_count": null,
   "metadata": {
    "colab": {
     "base_uri": "https://localhost:8080/"
    },
    "id": "RPXPhe2sLMNu",
    "outputId": "6432d22b-2123-4022-eafc-abcc4fd0cc9a"
   },
   "outputs": [
    {
     "name": "stdout",
     "output_type": "stream",
     "text": [
      "Requirement already satisfied: yfinance in /usr/local/lib/python3.10/dist-packages (0.2.49)\n",
      "Requirement already satisfied: pandas>=1.3.0 in /usr/local/lib/python3.10/dist-packages (from yfinance) (2.2.2)\n",
      "Requirement already satisfied: numpy>=1.16.5 in /usr/local/lib/python3.10/dist-packages (from yfinance) (1.26.4)\n",
      "Requirement already satisfied: requests>=2.31 in /usr/local/lib/python3.10/dist-packages (from yfinance) (2.32.3)\n",
      "Requirement already satisfied: multitasking>=0.0.7 in /usr/local/lib/python3.10/dist-packages (from yfinance) (0.0.11)\n",
      "Requirement already satisfied: lxml>=4.9.1 in /usr/local/lib/python3.10/dist-packages (from yfinance) (5.3.0)\n",
      "Requirement already satisfied: platformdirs>=2.0.0 in /usr/local/lib/python3.10/dist-packages (from yfinance) (4.3.6)\n",
      "Requirement already satisfied: pytz>=2022.5 in /usr/local/lib/python3.10/dist-packages (from yfinance) (2024.2)\n",
      "Requirement already satisfied: frozendict>=2.3.4 in /usr/local/lib/python3.10/dist-packages (from yfinance) (2.4.6)\n",
      "Requirement already satisfied: peewee>=3.16.2 in /usr/local/lib/python3.10/dist-packages (from yfinance) (3.17.8)\n",
      "Requirement already satisfied: beautifulsoup4>=4.11.1 in /usr/local/lib/python3.10/dist-packages (from yfinance) (4.12.3)\n",
      "Requirement already satisfied: html5lib>=1.1 in /usr/local/lib/python3.10/dist-packages (from yfinance) (1.1)\n",
      "Requirement already satisfied: soupsieve>1.2 in /usr/local/lib/python3.10/dist-packages (from beautifulsoup4>=4.11.1->yfinance) (2.6)\n",
      "Requirement already satisfied: six>=1.9 in /usr/local/lib/python3.10/dist-packages (from html5lib>=1.1->yfinance) (1.16.0)\n",
      "Requirement already satisfied: webencodings in /usr/local/lib/python3.10/dist-packages (from html5lib>=1.1->yfinance) (0.5.1)\n",
      "Requirement already satisfied: python-dateutil>=2.8.2 in /usr/local/lib/python3.10/dist-packages (from pandas>=1.3.0->yfinance) (2.8.2)\n",
      "Requirement already satisfied: tzdata>=2022.7 in /usr/local/lib/python3.10/dist-packages (from pandas>=1.3.0->yfinance) (2024.2)\n",
      "Requirement already satisfied: charset-normalizer<4,>=2 in /usr/local/lib/python3.10/dist-packages (from requests>=2.31->yfinance) (3.4.0)\n",
      "Requirement already satisfied: idna<4,>=2.5 in /usr/local/lib/python3.10/dist-packages (from requests>=2.31->yfinance) (3.10)\n",
      "Requirement already satisfied: urllib3<3,>=1.21.1 in /usr/local/lib/python3.10/dist-packages (from requests>=2.31->yfinance) (2.2.3)\n",
      "Requirement already satisfied: certifi>=2017.4.17 in /usr/local/lib/python3.10/dist-packages (from requests>=2.31->yfinance) (2024.8.30)\n",
      "Collecting ta\n",
      "  Downloading ta-0.11.0.tar.gz (25 kB)\n",
      "  Preparing metadata (setup.py) ... \u001b[?25l\u001b[?25hdone\n",
      "Requirement already satisfied: numpy in /usr/local/lib/python3.10/dist-packages (from ta) (1.26.4)\n",
      "Requirement already satisfied: pandas in /usr/local/lib/python3.10/dist-packages (from ta) (2.2.2)\n",
      "Requirement already satisfied: python-dateutil>=2.8.2 in /usr/local/lib/python3.10/dist-packages (from pandas->ta) (2.8.2)\n",
      "Requirement already satisfied: pytz>=2020.1 in /usr/local/lib/python3.10/dist-packages (from pandas->ta) (2024.2)\n",
      "Requirement already satisfied: tzdata>=2022.7 in /usr/local/lib/python3.10/dist-packages (from pandas->ta) (2024.2)\n",
      "Requirement already satisfied: six>=1.5 in /usr/local/lib/python3.10/dist-packages (from python-dateutil>=2.8.2->pandas->ta) (1.16.0)\n",
      "Building wheels for collected packages: ta\n",
      "  Building wheel for ta (setup.py) ... \u001b[?25l\u001b[?25hdone\n",
      "  Created wheel for ta: filename=ta-0.11.0-py3-none-any.whl size=29412 sha256=bcd401f7b4deeb283b38d1d616ce3af891c53e7323c1e7914e3114e1cc7edcfc\n",
      "  Stored in directory: /root/.cache/pip/wheels/5f/67/4f/8a9f252836e053e532c6587a3230bc72a4deb16b03a829610b\n",
      "Successfully built ta\n",
      "Installing collected packages: ta\n",
      "Successfully installed ta-0.11.0\n",
      "Collecting pandas_ta\n",
      "  Downloading pandas_ta-0.3.14b.tar.gz (115 kB)\n",
      "\u001b[2K     \u001b[90m━━━━━━━━━━━━━━━━━━━━━━━━━━━━━━━━━━━━━━━━\u001b[0m \u001b[32m115.1/115.1 kB\u001b[0m \u001b[31m2.5 MB/s\u001b[0m eta \u001b[36m0:00:00\u001b[0m\n",
      "\u001b[?25h  Preparing metadata (setup.py) ... \u001b[?25l\u001b[?25hdone\n",
      "Requirement already satisfied: pandas in /usr/local/lib/python3.10/dist-packages (from pandas_ta) (2.2.2)\n",
      "Requirement already satisfied: numpy>=1.22.4 in /usr/local/lib/python3.10/dist-packages (from pandas->pandas_ta) (1.26.4)\n",
      "Requirement already satisfied: python-dateutil>=2.8.2 in /usr/local/lib/python3.10/dist-packages (from pandas->pandas_ta) (2.8.2)\n",
      "Requirement already satisfied: pytz>=2020.1 in /usr/local/lib/python3.10/dist-packages (from pandas->pandas_ta) (2024.2)\n",
      "Requirement already satisfied: tzdata>=2022.7 in /usr/local/lib/python3.10/dist-packages (from pandas->pandas_ta) (2024.2)\n",
      "Requirement already satisfied: six>=1.5 in /usr/local/lib/python3.10/dist-packages (from python-dateutil>=2.8.2->pandas->pandas_ta) (1.16.0)\n",
      "Building wheels for collected packages: pandas_ta\n",
      "  Building wheel for pandas_ta (setup.py) ... \u001b[?25l\u001b[?25hdone\n",
      "  Created wheel for pandas_ta: filename=pandas_ta-0.3.14b0-py3-none-any.whl size=218909 sha256=f71d8df0f1c47d7e8bde7f63ace270719e92367d4ecedefd5fb53b700d958228\n",
      "  Stored in directory: /root/.cache/pip/wheels/69/00/ac/f7fa862c34b0e2ef320175100c233377b4c558944f12474cf0\n",
      "Successfully built pandas_ta\n",
      "Installing collected packages: pandas_ta\n",
      "Successfully installed pandas_ta-0.3.14b0\n",
      "Collecting bta-lib\n",
      "  Downloading bta_lib-1.0.0-py2.py3-none-any.whl.metadata (1.8 kB)\n",
      "Requirement already satisfied: pandas in /usr/local/lib/python3.10/dist-packages (from bta-lib) (2.2.2)\n",
      "Requirement already satisfied: numpy>=1.22.4 in /usr/local/lib/python3.10/dist-packages (from pandas->bta-lib) (1.26.4)\n",
      "Requirement already satisfied: python-dateutil>=2.8.2 in /usr/local/lib/python3.10/dist-packages (from pandas->bta-lib) (2.8.2)\n",
      "Requirement already satisfied: pytz>=2020.1 in /usr/local/lib/python3.10/dist-packages (from pandas->bta-lib) (2024.2)\n",
      "Requirement already satisfied: tzdata>=2022.7 in /usr/local/lib/python3.10/dist-packages (from pandas->bta-lib) (2024.2)\n",
      "Requirement already satisfied: six>=1.5 in /usr/local/lib/python3.10/dist-packages (from python-dateutil>=2.8.2->pandas->bta-lib) (1.16.0)\n",
      "Downloading bta_lib-1.0.0-py2.py3-none-any.whl (92 kB)\n",
      "\u001b[2K   \u001b[90m━━━━━━━━━━━━━━━━━━━━━━━━━━━━━━━━━━━━━━━━\u001b[0m \u001b[32m92.2/92.2 kB\u001b[0m \u001b[31m2.3 MB/s\u001b[0m eta \u001b[36m0:00:00\u001b[0m\n",
      "\u001b[?25hInstalling collected packages: bta-lib\n",
      "Successfully installed bta-lib-1.0.0\n",
      "Collecting finta\n",
      "  Downloading finta-1.3-py3-none-any.whl.metadata (6.4 kB)\n",
      "Requirement already satisfied: numpy in /usr/local/lib/python3.10/dist-packages (from finta) (1.26.4)\n",
      "Requirement already satisfied: pandas in /usr/local/lib/python3.10/dist-packages (from finta) (2.2.2)\n",
      "Requirement already satisfied: python-dateutil>=2.8.2 in /usr/local/lib/python3.10/dist-packages (from pandas->finta) (2.8.2)\n",
      "Requirement already satisfied: pytz>=2020.1 in /usr/local/lib/python3.10/dist-packages (from pandas->finta) (2024.2)\n",
      "Requirement already satisfied: tzdata>=2022.7 in /usr/local/lib/python3.10/dist-packages (from pandas->finta) (2024.2)\n",
      "Requirement already satisfied: six>=1.5 in /usr/local/lib/python3.10/dist-packages (from python-dateutil>=2.8.2->pandas->finta) (1.16.0)\n",
      "Downloading finta-1.3-py3-none-any.whl (29 kB)\n",
      "Installing collected packages: finta\n",
      "Successfully installed finta-1.3\n",
      "\u001b[31mERROR: Could not find a version that satisfies the requirement talib-binary (from versions: none)\u001b[0m\u001b[31m\n",
      "\u001b[0m\u001b[31mERROR: No matching distribution found for talib-binary\u001b[0m\u001b[31m\n",
      "\u001b[0m"
     ]
    }
   ],
   "source": [
    "!pip install yfinance\n",
    "!pip install ta\n",
    "!pip install pandas_ta\n",
    "!pip install bta-lib\n",
    "!pip install finta\n",
    "!pip install talib-binary"
   ]
  },
  {
   "cell_type": "code",
   "execution_count": 1,
   "metadata": {
    "id": "eNWyR2EsLpBW"
   },
   "outputs": [],
   "source": [
    "import pandas as pd\n",
    "import yfinance as yf\n",
    "from ta import add_all_ta_features\n",
    "import pandas_ta\n",
    "import btalib\n",
    "#import talib\n",
    "#from finta import TA"
   ]
  },
  {
   "cell_type": "code",
   "execution_count": 2,
   "metadata": {
    "colab": {
     "base_uri": "https://localhost:8080/"
    },
    "id": "j9dJs4TNOWLk",
    "outputId": "3c18debe-e055-4379-e9a0-4eca124548e1"
   },
   "outputs": [
    {
     "name": "stderr",
     "output_type": "stream",
     "text": [
      "[*********************100%***********************]  1 of 1 completed\n"
     ]
    }
   ],
   "source": [
    "data = yf.download('BTC-USD', start = '2020-01-01')"
   ]
  },
  {
   "cell_type": "code",
   "execution_count": 3,
   "metadata": {
    "colab": {
     "base_uri": "https://localhost:8080/",
     "height": 269
    },
    "id": "2WmqBByRSB39",
    "outputId": "6c40c9cf-7a5d-4ab1-e9a4-81f3524301e7"
   },
   "outputs": [
    {
     "data": {
      "text/html": [
       "<div>\n",
       "<style scoped>\n",
       "    .dataframe tbody tr th:only-of-type {\n",
       "        vertical-align: middle;\n",
       "    }\n",
       "\n",
       "    .dataframe tbody tr th {\n",
       "        vertical-align: top;\n",
       "    }\n",
       "\n",
       "    .dataframe thead tr th {\n",
       "        text-align: left;\n",
       "    }\n",
       "\n",
       "    .dataframe thead tr:last-of-type th {\n",
       "        text-align: right;\n",
       "    }\n",
       "</style>\n",
       "<table border=\"1\" class=\"dataframe\">\n",
       "  <thead>\n",
       "    <tr>\n",
       "      <th>Price</th>\n",
       "      <th>Adj Close</th>\n",
       "      <th>Close</th>\n",
       "      <th>High</th>\n",
       "      <th>Low</th>\n",
       "      <th>Open</th>\n",
       "      <th>Volume</th>\n",
       "    </tr>\n",
       "    <tr>\n",
       "      <th>Ticker</th>\n",
       "      <th>BTC-USD</th>\n",
       "      <th>BTC-USD</th>\n",
       "      <th>BTC-USD</th>\n",
       "      <th>BTC-USD</th>\n",
       "      <th>BTC-USD</th>\n",
       "      <th>BTC-USD</th>\n",
       "    </tr>\n",
       "    <tr>\n",
       "      <th>Date</th>\n",
       "      <th></th>\n",
       "      <th></th>\n",
       "      <th></th>\n",
       "      <th></th>\n",
       "      <th></th>\n",
       "      <th></th>\n",
       "    </tr>\n",
       "  </thead>\n",
       "  <tbody>\n",
       "    <tr>\n",
       "      <th>2020-01-01</th>\n",
       "      <td>7200.174316</td>\n",
       "      <td>7200.174316</td>\n",
       "      <td>7254.330566</td>\n",
       "      <td>7174.944336</td>\n",
       "      <td>7194.892090</td>\n",
       "      <td>18565664997</td>\n",
       "    </tr>\n",
       "    <tr>\n",
       "      <th>2020-01-02</th>\n",
       "      <td>6985.470215</td>\n",
       "      <td>6985.470215</td>\n",
       "      <td>7212.155273</td>\n",
       "      <td>6935.270020</td>\n",
       "      <td>7202.551270</td>\n",
       "      <td>20802083465</td>\n",
       "    </tr>\n",
       "    <tr>\n",
       "      <th>2020-01-03</th>\n",
       "      <td>7344.884277</td>\n",
       "      <td>7344.884277</td>\n",
       "      <td>7413.715332</td>\n",
       "      <td>6914.996094</td>\n",
       "      <td>6984.428711</td>\n",
       "      <td>28111481032</td>\n",
       "    </tr>\n",
       "    <tr>\n",
       "      <th>2020-01-04</th>\n",
       "      <td>7410.656738</td>\n",
       "      <td>7410.656738</td>\n",
       "      <td>7427.385742</td>\n",
       "      <td>7309.514160</td>\n",
       "      <td>7345.375488</td>\n",
       "      <td>18444271275</td>\n",
       "    </tr>\n",
       "    <tr>\n",
       "      <th>2020-01-05</th>\n",
       "      <td>7411.317383</td>\n",
       "      <td>7411.317383</td>\n",
       "      <td>7544.497070</td>\n",
       "      <td>7400.535645</td>\n",
       "      <td>7410.451660</td>\n",
       "      <td>19725074095</td>\n",
       "    </tr>\n",
       "  </tbody>\n",
       "</table>\n",
       "</div>"
      ],
      "text/plain": [
       "Price         Adj Close        Close         High          Low         Open  \\\n",
       "Ticker          BTC-USD      BTC-USD      BTC-USD      BTC-USD      BTC-USD   \n",
       "Date                                                                          \n",
       "2020-01-01  7200.174316  7200.174316  7254.330566  7174.944336  7194.892090   \n",
       "2020-01-02  6985.470215  6985.470215  7212.155273  6935.270020  7202.551270   \n",
       "2020-01-03  7344.884277  7344.884277  7413.715332  6914.996094  6984.428711   \n",
       "2020-01-04  7410.656738  7410.656738  7427.385742  7309.514160  7345.375488   \n",
       "2020-01-05  7411.317383  7411.317383  7544.497070  7400.535645  7410.451660   \n",
       "\n",
       "Price            Volume  \n",
       "Ticker          BTC-USD  \n",
       "Date                     \n",
       "2020-01-01  18565664997  \n",
       "2020-01-02  20802083465  \n",
       "2020-01-03  28111481032  \n",
       "2020-01-04  18444271275  \n",
       "2020-01-05  19725074095  "
      ]
     },
     "execution_count": 3,
     "metadata": {},
     "output_type": "execute_result"
    }
   ],
   "source": [
    "df = pd.DataFrame(data)\n",
    "\n",
    "df.head()"
   ]
  },
  {
   "cell_type": "code",
   "execution_count": 4,
   "metadata": {},
   "outputs": [
    {
     "data": {
      "text/plain": [
       "Price      Ticker \n",
       "Adj Close  BTC-USD    float64\n",
       "Close      BTC-USD    float64\n",
       "High       BTC-USD    float64\n",
       "Low        BTC-USD    float64\n",
       "Open       BTC-USD    float64\n",
       "Volume     BTC-USD      int64\n",
       "dtype: object"
      ]
     },
     "execution_count": 4,
     "metadata": {},
     "output_type": "execute_result"
    }
   ],
   "source": [
    "data.dtypes"
   ]
  },
  {
   "cell_type": "code",
   "execution_count": 5,
   "metadata": {
    "colab": {
     "base_uri": "https://localhost:8080/",
     "height": 564
    },
    "id": "fEVSb-zndEDn",
    "outputId": "3af1f1c4-414c-4d0f-f6fb-180efff8b50f"
   },
   "outputs": [
    {
     "data": {
      "image/png": "[encoded data removed]",
      "text/plain": [
       "<Figure size 864x432 with 1 Axes>"
      ]
     },
     "metadata": {
      "needs_background": "light"
     },
     "output_type": "display_data"
    }
   ],
   "source": [
    "# prompt: using df to create a line chart using atribute Close\n",
    "\n",
    "import matplotlib.pyplot as plt\n",
    "\n",
    "# Assuming 'Close' is the column you want to plot\n",
    "df['Close'].plot(figsize=(12, 6))\n",
    "plt.title('BTC-USD Close Price')\n",
    "plt.ylabel('Price')\n",
    "plt.xlabel('Date')\n",
    "plt.show()"
   ]
  },
  {
   "cell_type": "code",
   "execution_count": 6,
   "metadata": {
    "colab": {
     "base_uri": "https://localhost:8080/",
     "height": 143
    },
    "id": "B0XaMjOqAQLU",
    "outputId": "e488bb08-4548-4e62-b3ce-605d44503a8e"
   },
   "outputs": [
    {
     "data": {
      "text/html": [
       "<div>\n",
       "<style scoped>\n",
       "    .dataframe tbody tr th:only-of-type {\n",
       "        vertical-align: middle;\n",
       "    }\n",
       "\n",
       "    .dataframe tbody tr th {\n",
       "        vertical-align: top;\n",
       "    }\n",
       "\n",
       "    .dataframe thead tr th {\n",
       "        text-align: left;\n",
       "    }\n",
       "\n",
       "    .dataframe thead tr:last-of-type th {\n",
       "        text-align: right;\n",
       "    }\n",
       "</style>\n",
       "<table border=\"1\" class=\"dataframe\">\n",
       "  <thead>\n",
       "    <tr>\n",
       "      <th>Price</th>\n",
       "      <th>Adj Close</th>\n",
       "      <th>Close</th>\n",
       "      <th>High</th>\n",
       "      <th>Low</th>\n",
       "      <th>Open</th>\n",
       "      <th>Volume</th>\n",
       "    </tr>\n",
       "    <tr>\n",
       "      <th>Ticker</th>\n",
       "      <th>BTC-USD</th>\n",
       "      <th>BTC-USD</th>\n",
       "      <th>BTC-USD</th>\n",
       "      <th>BTC-USD</th>\n",
       "      <th>BTC-USD</th>\n",
       "      <th>BTC-USD</th>\n",
       "    </tr>\n",
       "    <tr>\n",
       "      <th>Date</th>\n",
       "      <th></th>\n",
       "      <th></th>\n",
       "      <th></th>\n",
       "      <th></th>\n",
       "      <th></th>\n",
       "      <th></th>\n",
       "    </tr>\n",
       "  </thead>\n",
       "  <tbody>\n",
       "    <tr>\n",
       "      <th>2024-11-27</th>\n",
       "      <td>94651.96875</td>\n",
       "      <td>94651.96875</td>\n",
       "      <td>94911.546875</td>\n",
       "      <td>91804.367188</td>\n",
       "      <td>91938.320312</td>\n",
       "      <td>74442317824</td>\n",
       "    </tr>\n",
       "  </tbody>\n",
       "</table>\n",
       "</div>"
      ],
      "text/plain": [
       "Price         Adj Close        Close          High           Low  \\\n",
       "Ticker          BTC-USD      BTC-USD       BTC-USD       BTC-USD   \n",
       "Date                                                               \n",
       "2024-11-27  94651.96875  94651.96875  94911.546875  91804.367188   \n",
       "\n",
       "Price               Open       Volume  \n",
       "Ticker           BTC-USD      BTC-USD  \n",
       "Date                                   \n",
       "2024-11-27  91938.320312  74442317824  "
      ]
     },
     "execution_count": 6,
     "metadata": {},
     "output_type": "execute_result"
    }
   ],
   "source": [
    "df_last = df.tail(1)\n",
    "\n",
    "df_last"
   ]
  },
  {
   "cell_type": "code",
   "execution_count": 7,
   "metadata": {
    "colab": {
     "base_uri": "https://localhost:8080/",
     "height": 112
    },
    "id": "ktSVo0d1BAJi",
    "outputId": "64ade4e9-6b65-4c79-a6a7-8af708898d28"
   },
   "outputs": [
    {
     "data": {
      "text/html": [
       "<div>\n",
       "<style scoped>\n",
       "    .dataframe tbody tr th:only-of-type {\n",
       "        vertical-align: middle;\n",
       "    }\n",
       "\n",
       "    .dataframe tbody tr th {\n",
       "        vertical-align: top;\n",
       "    }\n",
       "\n",
       "    .dataframe thead th {\n",
       "        text-align: right;\n",
       "    }\n",
       "</style>\n",
       "<table border=\"1\" class=\"dataframe\">\n",
       "  <thead>\n",
       "    <tr style=\"text-align: right;\">\n",
       "      <th>Ticker</th>\n",
       "      <th>BTC-USD</th>\n",
       "    </tr>\n",
       "    <tr>\n",
       "      <th>Date</th>\n",
       "      <th></th>\n",
       "    </tr>\n",
       "  </thead>\n",
       "  <tbody>\n",
       "    <tr>\n",
       "      <th>2024-11-27</th>\n",
       "      <td>2.951597</td>\n",
       "    </tr>\n",
       "  </tbody>\n",
       "</table>\n",
       "</div>"
      ],
      "text/plain": [
       "Ticker       BTC-USD\n",
       "Date                \n",
       "2024-11-27  2.951597"
      ]
     },
     "execution_count": 7,
     "metadata": {},
     "output_type": "execute_result"
    }
   ],
   "source": [
    "# prompt: Usando o dataframe df_last calcular o percentual da diferença dos atributos open e close\n",
    "\n",
    "percentual_diff = ((df_last['Close'] - df_last['Open']) / df_last['Open']) * 100\n",
    "percentual_diff"
   ]
  },
  {
   "cell_type": "code",
   "execution_count": 42,
   "metadata": {},
   "outputs": [
    {
     "data": {
      "text/html": [
       "<div>\n",
       "<style scoped>\n",
       "    .dataframe tbody tr th:only-of-type {\n",
       "        vertical-align: middle;\n",
       "    }\n",
       "\n",
       "    .dataframe tbody tr th {\n",
       "        vertical-align: top;\n",
       "    }\n",
       "\n",
       "    .dataframe thead tr th {\n",
       "        text-align: left;\n",
       "    }\n",
       "\n",
       "    .dataframe thead tr:last-of-type th {\n",
       "        text-align: right;\n",
       "    }\n",
       "</style>\n",
       "<table border=\"1\" class=\"dataframe\">\n",
       "  <thead>\n",
       "    <tr>\n",
       "      <th>Price</th>\n",
       "      <th>Adj Close</th>\n",
       "      <th>Close</th>\n",
       "      <th>High</th>\n",
       "      <th>Low</th>\n",
       "      <th>Open</th>\n",
       "      <th>Volume</th>\n",
       "    </tr>\n",
       "    <tr>\n",
       "      <th>Ticker</th>\n",
       "      <th>BTC-USD</th>\n",
       "      <th>BTC-USD</th>\n",
       "      <th>BTC-USD</th>\n",
       "      <th>BTC-USD</th>\n",
       "      <th>BTC-USD</th>\n",
       "      <th>BTC-USD</th>\n",
       "    </tr>\n",
       "    <tr>\n",
       "      <th>Date</th>\n",
       "      <th></th>\n",
       "      <th></th>\n",
       "      <th></th>\n",
       "      <th></th>\n",
       "      <th></th>\n",
       "      <th></th>\n",
       "    </tr>\n",
       "  </thead>\n",
       "  <tbody>\n",
       "    <tr>\n",
       "      <th>2024-11-13</th>\n",
       "      <td>90584.164062</td>\n",
       "      <td>90584.164062</td>\n",
       "      <td>93434.351562</td>\n",
       "      <td>86256.929688</td>\n",
       "      <td>87929.968750</td>\n",
       "      <td>123559027869</td>\n",
       "    </tr>\n",
       "    <tr>\n",
       "      <th>2024-11-14</th>\n",
       "      <td>87250.429688</td>\n",
       "      <td>87250.429688</td>\n",
       "      <td>91765.218750</td>\n",
       "      <td>86682.812500</td>\n",
       "      <td>90574.882812</td>\n",
       "      <td>87616705248</td>\n",
       "    </tr>\n",
       "    <tr>\n",
       "      <th>2024-11-15</th>\n",
       "      <td>91066.007812</td>\n",
       "      <td>91066.007812</td>\n",
       "      <td>91868.742188</td>\n",
       "      <td>87124.898438</td>\n",
       "      <td>87284.179688</td>\n",
       "      <td>78243109518</td>\n",
       "    </tr>\n",
       "    <tr>\n",
       "      <th>2024-11-16</th>\n",
       "      <td>90558.476562</td>\n",
       "      <td>90558.476562</td>\n",
       "      <td>91763.945312</td>\n",
       "      <td>90094.226562</td>\n",
       "      <td>91064.367188</td>\n",
       "      <td>44333192814</td>\n",
       "    </tr>\n",
       "    <tr>\n",
       "      <th>2024-11-17</th>\n",
       "      <td>89845.851562</td>\n",
       "      <td>89845.851562</td>\n",
       "      <td>91433.039062</td>\n",
       "      <td>88741.664062</td>\n",
       "      <td>90558.460938</td>\n",
       "      <td>46350159305</td>\n",
       "    </tr>\n",
       "  </tbody>\n",
       "</table>\n",
       "</div>"
      ],
      "text/plain": [
       "Price          Adj Close         Close          High           Low  \\\n",
       "Ticker           BTC-USD       BTC-USD       BTC-USD       BTC-USD   \n",
       "Date                                                                 \n",
       "2024-11-13  90584.164062  90584.164062  93434.351562  86256.929688   \n",
       "2024-11-14  87250.429688  87250.429688  91765.218750  86682.812500   \n",
       "2024-11-15  91066.007812  91066.007812  91868.742188  87124.898438   \n",
       "2024-11-16  90558.476562  90558.476562  91763.945312  90094.226562   \n",
       "2024-11-17  89845.851562  89845.851562  91433.039062  88741.664062   \n",
       "\n",
       "Price               Open        Volume  \n",
       "Ticker           BTC-USD       BTC-USD  \n",
       "Date                                    \n",
       "2024-11-13  87929.968750  123559027869  \n",
       "2024-11-14  90574.882812   87616705248  \n",
       "2024-11-15  87284.179688   78243109518  \n",
       "2024-11-16  91064.367188   44333192814  \n",
       "2024-11-17  90558.460938   46350159305  "
      ]
     },
     "execution_count": 42,
     "metadata": {},
     "output_type": "execute_result"
    }
   ],
   "source": [
    "df_btc_filter = df[(df.index >= '2024-11-13') & (df.index <= '2024-11-22')]\n",
    "\n",
    "df_btc_filter.head()"
   ]
  },
  {
   "cell_type": "code",
   "execution_count": 47,
   "metadata": {},
   "outputs": [
    {
     "data": {
      "image/png": "[encoded data removed]",
      "text/plain": [
       "<Figure size 864x432 with 1 Axes>"
      ]
     },
     "metadata": {
      "needs_background": "light"
     },
     "output_type": "display_data"
    }
   ],
   "source": [
    "# Assuming 'Close' is the column you want to plot\n",
    "df_btc_filter['Close'].plot(figsize=(12, 6))\n",
    "plt.title('BTC-USD Close Price')\n",
    "plt.ylabel('Price')\n",
    "plt.xlabel('Date')\n",
    "plt.show()"
   ]
  },
  {
   "cell_type": "code",
   "execution_count": 48,
   "metadata": {},
   "outputs": [
    {
     "data": {
      "text/plain": [
       "Price      Ticker \n",
       "Adj Close  BTC-USD    float64\n",
       "Close      BTC-USD    float64\n",
       "High       BTC-USD    float64\n",
       "Low        BTC-USD    float64\n",
       "Open       BTC-USD    float64\n",
       "Volume     BTC-USD      int64\n",
       "dtype: object"
      ]
     },
     "execution_count": 48,
     "metadata": {},
     "output_type": "execute_result"
    }
   ],
   "source": [
    "df_btc_filter.dtypes"
   ]
  },
  {
   "cell_type": "code",
   "execution_count": 49,
   "metadata": {},
   "outputs": [
    {
     "data": {
      "text/html": [
       "<div>\n",
       "<style scoped>\n",
       "    .dataframe tbody tr th:only-of-type {\n",
       "        vertical-align: middle;\n",
       "    }\n",
       "\n",
       "    .dataframe tbody tr th {\n",
       "        vertical-align: top;\n",
       "    }\n",
       "\n",
       "    .dataframe thead tr th {\n",
       "        text-align: left;\n",
       "    }\n",
       "\n",
       "    .dataframe thead tr:last-of-type th {\n",
       "        text-align: right;\n",
       "    }\n",
       "</style>\n",
       "<table border=\"1\" class=\"dataframe\">\n",
       "  <thead>\n",
       "    <tr>\n",
       "      <th>Price</th>\n",
       "      <th>Adj Close</th>\n",
       "      <th>Close</th>\n",
       "      <th>High</th>\n",
       "      <th>Low</th>\n",
       "      <th>Open</th>\n",
       "      <th>Volume</th>\n",
       "      <th>Resultado</th>\n",
       "    </tr>\n",
       "    <tr>\n",
       "      <th>Ticker</th>\n",
       "      <th>BTC-USD</th>\n",
       "      <th>BTC-USD</th>\n",
       "      <th>BTC-USD</th>\n",
       "      <th>BTC-USD</th>\n",
       "      <th>BTC-USD</th>\n",
       "      <th>BTC-USD</th>\n",
       "      <th></th>\n",
       "    </tr>\n",
       "    <tr>\n",
       "      <th>Date</th>\n",
       "      <th></th>\n",
       "      <th></th>\n",
       "      <th></th>\n",
       "      <th></th>\n",
       "      <th></th>\n",
       "      <th></th>\n",
       "      <th></th>\n",
       "    </tr>\n",
       "  </thead>\n",
       "  <tbody>\n",
       "    <tr>\n",
       "      <th>2024-11-13</th>\n",
       "      <td>90584.164062</td>\n",
       "      <td>90584.164062</td>\n",
       "      <td>93434.351562</td>\n",
       "      <td>86256.929688</td>\n",
       "      <td>87929.968750</td>\n",
       "      <td>123559027869</td>\n",
       "      <td>3.018533</td>\n",
       "    </tr>\n",
       "    <tr>\n",
       "      <th>2024-11-14</th>\n",
       "      <td>87250.429688</td>\n",
       "      <td>87250.429688</td>\n",
       "      <td>91765.218750</td>\n",
       "      <td>86682.812500</td>\n",
       "      <td>90574.882812</td>\n",
       "      <td>87616705248</td>\n",
       "      <td>-3.670392</td>\n",
       "    </tr>\n",
       "    <tr>\n",
       "      <th>2024-11-15</th>\n",
       "      <td>91066.007812</td>\n",
       "      <td>91066.007812</td>\n",
       "      <td>91868.742188</td>\n",
       "      <td>87124.898438</td>\n",
       "      <td>87284.179688</td>\n",
       "      <td>78243109518</td>\n",
       "      <td>4.332776</td>\n",
       "    </tr>\n",
       "    <tr>\n",
       "      <th>2024-11-16</th>\n",
       "      <td>90558.476562</td>\n",
       "      <td>90558.476562</td>\n",
       "      <td>91763.945312</td>\n",
       "      <td>90094.226562</td>\n",
       "      <td>91064.367188</td>\n",
       "      <td>44333192814</td>\n",
       "      <td>-0.555531</td>\n",
       "    </tr>\n",
       "    <tr>\n",
       "      <th>2024-11-17</th>\n",
       "      <td>89845.851562</td>\n",
       "      <td>89845.851562</td>\n",
       "      <td>91433.039062</td>\n",
       "      <td>88741.664062</td>\n",
       "      <td>90558.460938</td>\n",
       "      <td>46350159305</td>\n",
       "      <td>-0.786905</td>\n",
       "    </tr>\n",
       "  </tbody>\n",
       "</table>\n",
       "</div>"
      ],
      "text/plain": [
       "Price          Adj Close         Close          High           Low  \\\n",
       "Ticker           BTC-USD       BTC-USD       BTC-USD       BTC-USD   \n",
       "Date                                                                 \n",
       "2024-11-13  90584.164062  90584.164062  93434.351562  86256.929688   \n",
       "2024-11-14  87250.429688  87250.429688  91765.218750  86682.812500   \n",
       "2024-11-15  91066.007812  91066.007812  91868.742188  87124.898438   \n",
       "2024-11-16  90558.476562  90558.476562  91763.945312  90094.226562   \n",
       "2024-11-17  89845.851562  89845.851562  91433.039062  88741.664062   \n",
       "\n",
       "Price               Open        Volume Resultado  \n",
       "Ticker           BTC-USD       BTC-USD            \n",
       "Date                                              \n",
       "2024-11-13  87929.968750  123559027869  3.018533  \n",
       "2024-11-14  90574.882812   87616705248 -3.670392  \n",
       "2024-11-15  87284.179688   78243109518  4.332776  \n",
       "2024-11-16  91064.367188   44333192814 -0.555531  \n",
       "2024-11-17  90558.460938   46350159305 -0.786905  "
      ]
     },
     "execution_count": 49,
     "metadata": {},
     "output_type": "execute_result"
    }
   ],
   "source": [
    "def calcular_diferenca_percentual(df):\n",
    "  \"\"\"Calcula a diferença percentual entre as colunas 'open' e 'close' de um DataFrame.\n",
    "\n",
    "  Args:\n",
    "    df: Um DataFrame Pandas.\n",
    "\n",
    "  Returns:\n",
    "    Um novo DataFrame com a coluna 'Resultado' adicionada.\n",
    "  \"\"\"\n",
    "\n",
    "  # Assumindo que as colunas corretas são 'float64Open' e 'float64Close'\n",
    "  df['Resultado'] = ((df['Close'] - df['Open']) / df['Open']) * 100\n",
    "  return df\n",
    "\n",
    "# Aplicando a função ao DataFrame\n",
    "df2 = calcular_diferenca_percentual(df_btc_filter.copy())\n",
    "\n",
    "df2.head()"
   ]
  },
  {
   "cell_type": "code",
   "execution_count": 50,
   "metadata": {},
   "outputs": [
    {
     "data": {
      "text/html": [
       "<div>\n",
       "<style scoped>\n",
       "    .dataframe tbody tr th:only-of-type {\n",
       "        vertical-align: middle;\n",
       "    }\n",
       "\n",
       "    .dataframe tbody tr th {\n",
       "        vertical-align: top;\n",
       "    }\n",
       "\n",
       "    .dataframe thead tr th {\n",
       "        text-align: left;\n",
       "    }\n",
       "\n",
       "    .dataframe thead tr:last-of-type th {\n",
       "        text-align: right;\n",
       "    }\n",
       "</style>\n",
       "<table border=\"1\" class=\"dataframe\">\n",
       "  <thead>\n",
       "    <tr>\n",
       "      <th>Price</th>\n",
       "      <th>Adj Close</th>\n",
       "      <th>Close</th>\n",
       "      <th>High</th>\n",
       "      <th>Low</th>\n",
       "      <th>Open</th>\n",
       "      <th>Volume</th>\n",
       "      <th>Resultado</th>\n",
       "    </tr>\n",
       "    <tr>\n",
       "      <th>Ticker</th>\n",
       "      <th>BTC-USD</th>\n",
       "      <th>BTC-USD</th>\n",
       "      <th>BTC-USD</th>\n",
       "      <th>BTC-USD</th>\n",
       "      <th>BTC-USD</th>\n",
       "      <th>BTC-USD</th>\n",
       "      <th></th>\n",
       "    </tr>\n",
       "    <tr>\n",
       "      <th>Date</th>\n",
       "      <th></th>\n",
       "      <th></th>\n",
       "      <th></th>\n",
       "      <th></th>\n",
       "      <th></th>\n",
       "      <th></th>\n",
       "      <th></th>\n",
       "    </tr>\n",
       "  </thead>\n",
       "  <tbody>\n",
       "    <tr>\n",
       "      <th>2024-11-13</th>\n",
       "      <td>90584.164062</td>\n",
       "      <td>90584.164062</td>\n",
       "      <td>93434.351562</td>\n",
       "      <td>86256.929688</td>\n",
       "      <td>87929.968750</td>\n",
       "      <td>123559027869</td>\n",
       "      <td>3.018533</td>\n",
       "    </tr>\n",
       "    <tr>\n",
       "      <th>2024-11-14</th>\n",
       "      <td>87250.429688</td>\n",
       "      <td>87250.429688</td>\n",
       "      <td>91765.218750</td>\n",
       "      <td>86682.812500</td>\n",
       "      <td>90574.882812</td>\n",
       "      <td>87616705248</td>\n",
       "      <td>-3.670392</td>\n",
       "    </tr>\n",
       "    <tr>\n",
       "      <th>2024-11-15</th>\n",
       "      <td>91066.007812</td>\n",
       "      <td>91066.007812</td>\n",
       "      <td>91868.742188</td>\n",
       "      <td>87124.898438</td>\n",
       "      <td>87284.179688</td>\n",
       "      <td>78243109518</td>\n",
       "      <td>4.332776</td>\n",
       "    </tr>\n",
       "    <tr>\n",
       "      <th>2024-11-16</th>\n",
       "      <td>90558.476562</td>\n",
       "      <td>90558.476562</td>\n",
       "      <td>91763.945312</td>\n",
       "      <td>90094.226562</td>\n",
       "      <td>91064.367188</td>\n",
       "      <td>44333192814</td>\n",
       "      <td>-0.555531</td>\n",
       "    </tr>\n",
       "    <tr>\n",
       "      <th>2024-11-17</th>\n",
       "      <td>89845.851562</td>\n",
       "      <td>89845.851562</td>\n",
       "      <td>91433.039062</td>\n",
       "      <td>88741.664062</td>\n",
       "      <td>90558.460938</td>\n",
       "      <td>46350159305</td>\n",
       "      <td>-0.786905</td>\n",
       "    </tr>\n",
       "  </tbody>\n",
       "</table>\n",
       "</div>"
      ],
      "text/plain": [
       "Price          Adj Close         Close          High           Low  \\\n",
       "Ticker           BTC-USD       BTC-USD       BTC-USD       BTC-USD   \n",
       "Date                                                                 \n",
       "2024-11-13  90584.164062  90584.164062  93434.351562  86256.929688   \n",
       "2024-11-14  87250.429688  87250.429688  91765.218750  86682.812500   \n",
       "2024-11-15  91066.007812  91066.007812  91868.742188  87124.898438   \n",
       "2024-11-16  90558.476562  90558.476562  91763.945312  90094.226562   \n",
       "2024-11-17  89845.851562  89845.851562  91433.039062  88741.664062   \n",
       "\n",
       "Price               Open        Volume Resultado  \n",
       "Ticker           BTC-USD       BTC-USD            \n",
       "Date                                              \n",
       "2024-11-13  87929.968750  123559027869  3.018533  \n",
       "2024-11-14  90574.882812   87616705248 -3.670392  \n",
       "2024-11-15  87284.179688   78243109518  4.332776  \n",
       "2024-11-16  91064.367188   44333192814 -0.555531  \n",
       "2024-11-17  90558.460938   46350159305 -0.786905  "
      ]
     },
     "execution_count": 50,
     "metadata": {},
     "output_type": "execute_result"
    }
   ],
   "source": [
    "import numpy as np\n",
    "df2['Resultado'] = np.where(df2['Open'] != 0, ((df2['Close'] - df2['Open']) / df2['Open']) * 100, np.nan)\n",
    "df2.head()"
   ]
  },
  {
   "cell_type": "code",
   "execution_count": 51,
   "metadata": {},
   "outputs": [
    {
     "name": "stdout",
     "output_type": "stream",
     "text": [
      "O total da coluna Resultado é: 12.204936663376609\n",
      "O valor atual: 1122.049366633766\n"
     ]
    }
   ],
   "source": [
    "# calculando resultado\n",
    "total_resultado = df2['Resultado'].sum()\n",
    "vr_atual = 1000 * (1 + total_resultado / 100)\n",
    "print(\"O total da coluna Resultado é:\", total_resultado)\n",
    "print(\"O valor atual:\", vr_atual)"
   ]
  },
  {
   "cell_type": "code",
   "execution_count": 52,
   "metadata": {
    "colab": {
     "base_uri": "https://localhost:8080/"
    },
    "id": "ZaQ18V_LwOtP",
    "outputId": "1fc3afa6-953f-483a-9258-77d624eaa62f"
   },
   "outputs": [
    {
     "name": "stderr",
     "output_type": "stream",
     "text": [
      "[*********************100%***********************]  1 of 1 completed\n"
     ]
    }
   ],
   "source": [
    "df_acao_ita = yf.download('ITUB4.SA', start = '2020-01-01')"
   ]
  },
  {
   "cell_type": "code",
   "execution_count": 53,
   "metadata": {
    "colab": {
     "base_uri": "https://localhost:8080/",
     "height": 269
    },
    "id": "rAQ3w8PCws8E",
    "outputId": "660f23fc-dae7-4bd3-d1d0-9f807062dc23"
   },
   "outputs": [
    {
     "data": {
      "text/html": [
       "<div>\n",
       "<style scoped>\n",
       "    .dataframe tbody tr th:only-of-type {\n",
       "        vertical-align: middle;\n",
       "    }\n",
       "\n",
       "    .dataframe tbody tr th {\n",
       "        vertical-align: top;\n",
       "    }\n",
       "\n",
       "    .dataframe thead tr th {\n",
       "        text-align: left;\n",
       "    }\n",
       "\n",
       "    .dataframe thead tr:last-of-type th {\n",
       "        text-align: right;\n",
       "    }\n",
       "</style>\n",
       "<table border=\"1\" class=\"dataframe\">\n",
       "  <thead>\n",
       "    <tr>\n",
       "      <th>Price</th>\n",
       "      <th>Adj Close</th>\n",
       "      <th>Close</th>\n",
       "      <th>High</th>\n",
       "      <th>Low</th>\n",
       "      <th>Open</th>\n",
       "      <th>Volume</th>\n",
       "    </tr>\n",
       "    <tr>\n",
       "      <th>Ticker</th>\n",
       "      <th>ITUB4.SA</th>\n",
       "      <th>ITUB4.SA</th>\n",
       "      <th>ITUB4.SA</th>\n",
       "      <th>ITUB4.SA</th>\n",
       "      <th>ITUB4.SA</th>\n",
       "      <th>ITUB4.SA</th>\n",
       "    </tr>\n",
       "    <tr>\n",
       "      <th>Date</th>\n",
       "      <th></th>\n",
       "      <th></th>\n",
       "      <th></th>\n",
       "      <th></th>\n",
       "      <th></th>\n",
       "      <th></th>\n",
       "    </tr>\n",
       "  </thead>\n",
       "  <tbody>\n",
       "    <tr>\n",
       "      <th>2020-01-02</th>\n",
       "      <td>30.934130</td>\n",
       "      <td>38.029999</td>\n",
       "      <td>38.029999</td>\n",
       "      <td>36.990002</td>\n",
       "      <td>37.279999</td>\n",
       "      <td>20666100</td>\n",
       "    </tr>\n",
       "    <tr>\n",
       "      <th>2020-01-03</th>\n",
       "      <td>30.608761</td>\n",
       "      <td>37.630001</td>\n",
       "      <td>38.240002</td>\n",
       "      <td>37.450001</td>\n",
       "      <td>37.500000</td>\n",
       "      <td>24891400</td>\n",
       "    </tr>\n",
       "    <tr>\n",
       "      <th>2020-01-06</th>\n",
       "      <td>30.153248</td>\n",
       "      <td>37.070000</td>\n",
       "      <td>37.580002</td>\n",
       "      <td>36.910000</td>\n",
       "      <td>37.549999</td>\n",
       "      <td>22294700</td>\n",
       "    </tr>\n",
       "    <tr>\n",
       "      <th>2020-01-07</th>\n",
       "      <td>29.453720</td>\n",
       "      <td>36.209999</td>\n",
       "      <td>37.240002</td>\n",
       "      <td>36.209999</td>\n",
       "      <td>37.070000</td>\n",
       "      <td>20000900</td>\n",
       "    </tr>\n",
       "    <tr>\n",
       "      <th>2020-01-08</th>\n",
       "      <td>28.973803</td>\n",
       "      <td>35.619999</td>\n",
       "      <td>36.810001</td>\n",
       "      <td>35.619999</td>\n",
       "      <td>36.450001</td>\n",
       "      <td>25980900</td>\n",
       "    </tr>\n",
       "  </tbody>\n",
       "</table>\n",
       "</div>"
      ],
      "text/plain": [
       "Price       Adj Close      Close       High        Low       Open    Volume\n",
       "Ticker       ITUB4.SA   ITUB4.SA   ITUB4.SA   ITUB4.SA   ITUB4.SA  ITUB4.SA\n",
       "Date                                                                       \n",
       "2020-01-02  30.934130  38.029999  38.029999  36.990002  37.279999  20666100\n",
       "2020-01-03  30.608761  37.630001  38.240002  37.450001  37.500000  24891400\n",
       "2020-01-06  30.153248  37.070000  37.580002  36.910000  37.549999  22294700\n",
       "2020-01-07  29.453720  36.209999  37.240002  36.209999  37.070000  20000900\n",
       "2020-01-08  28.973803  35.619999  36.810001  35.619999  36.450001  25980900"
      ]
     },
     "execution_count": 53,
     "metadata": {},
     "output_type": "execute_result"
    }
   ],
   "source": [
    "df_acao_ita.head()"
   ]
  },
  {
   "cell_type": "code",
   "execution_count": 54,
   "metadata": {
    "colab": {
     "base_uri": "https://localhost:8080/",
     "height": 526
    },
    "id": "rOWbkgjfw15C",
    "outputId": "12fe0dce-1962-482b-aaf7-8205cb8602bd"
   },
   "outputs": [
    {
     "data": {
      "image/png": "[encoded data removed]",
      "text/plain": [
       "<Figure size 864x432 with 1 Axes>"
      ]
     },
     "metadata": {
      "needs_background": "light"
     },
     "output_type": "display_data"
    }
   ],
   "source": [
    "# Assuming 'Close' is the column you want to plot\n",
    "df_acao_ita['Close'].plot(figsize=(12, 6))\n",
    "plt.title('ITUB4.SA Close Price')\n",
    "plt.ylabel('Price')\n",
    "plt.xlabel('Date')\n",
    "plt.show()"
   ]
  }
 ],
 "metadata": {
  "colab": {
   "authorship_tag": "ABX9TyNyafl5b4CYFchvmxZiONws",
   "include_colab_link": true,
   "mount_file_id": "1fjNDDDkMhLcPi5fiwnvnbDufaUEAkncD",
   "provenance": []
  },
  "kernelspec": {
   "display_name": "Python 3",
   "name": "python3"
  },
  "language_info": {
   "codemirror_mode": {
    "name": "ipython",
    "version": 3
   },
   "file_extension": ".py",
   "mimetype": "text/x-python",
   "name": "python",
   "nbconvert_exporter": "python",
   "pygments_lexer": "ipython3",
   "version": "3.9.6"
  }
 },
 "nbformat": 4,
 "nbformat_minor": 0
}
